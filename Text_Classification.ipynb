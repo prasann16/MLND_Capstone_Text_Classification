{
 "cells": [
  {
   "cell_type": "markdown",
   "metadata": {
    "deletable": true,
    "editable": true
   },
   "source": [
    "# Text Classification"
   ]
  },
  {
   "cell_type": "code",
   "execution_count": 1,
   "metadata": {
    "collapsed": false,
    "deletable": true,
    "editable": true
   },
   "outputs": [
    {
     "name": "stdout",
     "output_type": "stream",
     "text": [
      "[nltk_data] Downloading package wordnet to /Users/Prasann/nltk_data...\n",
      "[nltk_data]   Package wordnet is already up-to-date!\n",
      "[nltk_data] Downloading package stopwords to\n",
      "[nltk_data]     /Users/Prasann/nltk_data...\n",
      "[nltk_data]   Package stopwords is already up-to-date!\n"
     ]
    }
   ],
   "source": [
    "# Importing all libraries\n",
    "import sklearn\n",
    "import nltk\n",
    "nltk.download('wordnet')\n",
    "nltk.download('stopwords')\n",
    "from sklearn.datasets import fetch_20newsgroups\n",
    "from nltk.tokenize import sent_tokenize, word_tokenize\n",
    "from nltk.corpus import stopwords\n",
    "from nltk.stem.snowball import SnowballStemmer\n",
    "from nltk.tokenize import RegexpTokenizer\n",
    "import numpy as np\n",
    "from sklearn.feature_extraction.text import CountVectorizer\n",
    "from sklearn.feature_extraction.text import TfidfTransformer\n",
    "from sklearn.naive_bayes import MultinomialNB\n",
    "from sklearn.pipeline import Pipeline\n",
    "from sklearn import svm\n",
    "from sklearn.linear_model import SGDClassifier\n",
    "from sklearn.linear_model import LogisticRegression\n",
    "from sklearn.metrics import accuracy_score\n",
    "from sklearn.metrics import f1_score\n",
    "from sklearn.metrics import classification_report\n",
    "from sklearn import datasets\n",
    "from sklearn.model_selection import train_test_split\n",
    "from sklearn.metrics import confusion_matrix\n",
    "from sklearn.feature_extraction.text import TfidfVectorizer\n",
    "from sklearn.model_selection import GridSearchCV\n",
    "import gensim\n",
    "from gensim import models\n",
    "# To hide all warnings\n",
    "import warnings; warnings.simplefilter('ignore')"
   ]
  },
  {
   "cell_type": "markdown",
   "metadata": {
    "deletable": true,
    "editable": true
   },
   "source": [
    "# Fetching data and tokenizing"
   ]
  },
  {
   "cell_type": "code",
   "execution_count": 42,
   "metadata": {
    "collapsed": false,
    "deletable": true,
    "editable": true
   },
   "outputs": [],
   "source": [
    "# Fetching the 20 Newsgroups data from sklearn\n",
    "newsgroups_train = fetch_20newsgroups(subset='train',remove=('footers')) #Train Data\n",
    "twenty_test = fetch_20newsgroups(subset='test', shuffle=True, random_state=42)\n",
    "# Building a tokenizer to remove stopwords, punctuations and stem all the words\n",
    "def my_tokenizer(s):\n",
    "    STOPWORDS = set(stopwords.words('english'))\n",
    "    stemmer = SnowballStemmer(\"english\", ignore_stopwords=True)\n",
    "    tokenizer = RegexpTokenizer(r'\\w+')\n",
    "    tokenized_data = tokenizer.tokenize(s)\n",
    "    new_tokenized = []\n",
    "    for word in tokenized_data:\n",
    "        if word not in STOPWORDS:\n",
    "            new_tokenized.append(word.lower())\n",
    "    return new_tokenized\n",
    "# print(my_tokenizer(newsgroups_train.data[1]))"
   ]
  },
  {
   "cell_type": "markdown",
   "metadata": {
    "deletable": true,
    "editable": true
   },
   "source": [
    "# Classification"
   ]
  },
  {
   "cell_type": "code",
   "execution_count": 43,
   "metadata": {
    "collapsed": false,
    "deletable": true,
    "editable": true
   },
   "outputs": [
    {
     "name": "stdout",
     "output_type": "stream",
     "text": [
      "0.832182687201\n",
      "0.830892160204\n"
     ]
    }
   ],
   "source": [
    "# Using Naive Bayes Classfier\n",
    "text_clf_NB = Pipeline([('vect', CountVectorizer(stop_words=\"english\",tokenizer = my_tokenizer,ngram_range=(1, 2))),\n",
    "                     ('tfidf', TfidfTransformer(use_idf=True)),\n",
    "                     ('clf', MultinomialNB(alpha=0.01)),\n",
    "])\n",
    "text_clf_NB.fit(newsgroups_train.data, newsgroups_train.target)\n",
    "\n",
    "# Evaluation of performance on the test set\n",
    "NB_predicted = text_clf_NB.predict(twenty_test.data)\n",
    "NB_accuracy = text_clf_NB.score(twenty_test.data,twenty_test.target)\n",
    "NB_f1_score = f1_score(twenty_test.target, NB_predicted,average='weighted')\n",
    "print(NB_accuracy)\n",
    "print(NB_f1_score)\n",
    "\n",
    "# print(classification_report(twenty_test.target, NB_predicted, target_names=categories))"
   ]
  },
  {
   "cell_type": "code",
   "execution_count": 44,
   "metadata": {
    "collapsed": false,
    "deletable": true,
    "editable": true
   },
   "outputs": [
    {
     "name": "stdout",
     "output_type": "stream",
     "text": [
      "0.861789697292\n",
      "0.860979294015\n"
     ]
    }
   ],
   "source": [
    "# Using SVM Classfier\n",
    "text_clf_svm = Pipeline([('vect', CountVectorizer(stop_words='english',tokenizer = my_tokenizer,ngram_range=(1, 2))),\n",
    "                     ('tfidf', TfidfTransformer(use_idf=True)),\n",
    "                     ('clf', svm.LinearSVC(C=10))\n",
    "])\n",
    "text_clf_svm.fit(newsgroups_train.data, newsgroups_train.target)  \n",
    "\n",
    "svm_predicted = text_clf_svm.predict(twenty_test.data)\n",
    "svm_accuracy = text_clf_svm.score(twenty_test.data,twenty_test.target)  \n",
    "svm_f1_score = f1_score(twenty_test.target, svm_predicted,average='weighted')\n",
    "print(svm_accuracy)\n",
    "print(svm_f1_score)"
   ]
  },
  {
   "cell_type": "code",
   "execution_count": 45,
   "metadata": {
    "collapsed": false,
    "deletable": true,
    "editable": true
   },
   "outputs": [
    {
     "name": "stdout",
     "output_type": "stream",
     "text": [
      "0.822623473181\n",
      "0.820173015944\n"
     ]
    }
   ],
   "source": [
    "# Using Logistic Regression Classifier\n",
    "text_clf_LR = Pipeline([('vect', CountVectorizer(stop_words='english',tokenizer = my_tokenizer,ngram_range=(1, 2))),\n",
    "                     ('tfidf', TfidfTransformer()),\n",
    "                     ('clf', LogisticRegression()),\n",
    "])\n",
    "text_clf_LR.fit(newsgroups_train.data, newsgroups_train.target)  \n",
    "\n",
    "LR_predicted = text_clf_LR.predict(twenty_test.data)\n",
    "LR_accuracy = text_clf_LR.score(twenty_test.data,twenty_test.target)    \n",
    "LR_f1_score = f1_score(twenty_test.target, LR_predicted,average='weighted')\n",
    "\n",
    "print(LR_accuracy)\n",
    "print(LR_f1_score)"
   ]
  },
  {
   "cell_type": "markdown",
   "metadata": {
    "deletable": true,
    "editable": true
   },
   "source": [
    "# Parameter tuning using GridSearch"
   ]
  },
  {
   "cell_type": "code",
   "execution_count": 46,
   "metadata": {
    "collapsed": true,
    "deletable": true,
    "editable": true
   },
   "outputs": [],
   "source": [
    "# Parameter tuning using GridSearch\n",
    "parameters = {'vect__ngram_range': [(1, 1), (1, 2)],\n",
    "              'tfidf__use_idf': (True, False),\n",
    "              'clf__C': [0.01, 10],\n",
    "}\n",
    "\n",
    "gs_clf_svm = GridSearchCV(text_clf_svm, parameters, n_jobs=-1)\n",
    "\n",
    "parameters_NB = {'vect__ngram_range': [(1, 1), (1, 2)],\n",
    "              'tfidf__use_idf': (True, False),\n",
    "              'clf__alpha': (1e-2, 1e-3),\n",
    "}\n",
    "\n",
    "gs_clf_NB = GridSearchCV(text_clf_NB, parameters_NB, n_jobs=-1)"
   ]
  },
  {
   "cell_type": "code",
   "execution_count": 47,
   "metadata": {
    "collapsed": false,
    "deletable": true,
    "editable": true
   },
   "outputs": [
    {
     "name": "stdout",
     "output_type": "stream",
     "text": [
      "0.861789697292\n",
      "0.832182687201\n"
     ]
    }
   ],
   "source": [
    "gs_clf_svm = gs_clf_svm.fit(newsgroups_train.data, newsgroups_train.target)\n",
    "gs_clf_NB = gs_clf_NB.fit(newsgroups_train.data, newsgroups_train.target)\n",
    "\n",
    "print(gs_clf_svm.score(twenty_test.data,twenty_test.target))\n",
    "print(gs_clf_NB.score(twenty_test.data,twenty_test.target))"
   ]
  },
  {
   "cell_type": "code",
   "execution_count": 48,
   "metadata": {
    "collapsed": false,
    "deletable": true,
    "editable": true
   },
   "outputs": [
    {
     "name": "stdout",
     "output_type": "stream",
     "text": [
      "{'clf__C': 10, 'vect__ngram_range': (1, 2), 'tfidf__use_idf': True}\n",
      "{'tfidf__use_idf': True, 'vect__ngram_range': (1, 2), 'clf__alpha': 0.01}\n"
     ]
    }
   ],
   "source": [
    "# Best parameters for classfiers\n",
    "print(gs_clf_svm.best_params_)\n",
    "print(gs_clf_NB.best_params_)"
   ]
  },
  {
   "cell_type": "markdown",
   "metadata": {
    "deletable": true,
    "editable": true
   },
   "source": [
    "# Implementing Doc2Vec"
   ]
  },
  {
   "cell_type": "code",
   "execution_count": 49,
   "metadata": {
    "collapsed": false,
    "deletable": true,
    "editable": true
   },
   "outputs": [],
   "source": [
    "# Implementing Doc2Vec\n",
    "train_corpus = []\n",
    "counter = 0 \n",
    "for i in range(len(newsgroups_train.data)):\n",
    "    train_corpus.append(gensim.models.doc2vec.TaggedDocument(gensim.utils.simple_preprocess(newsgroups_train.data[i]), [i]))\n",
    "    counter += 1  "
   ]
  },
  {
   "cell_type": "code",
   "execution_count": 50,
   "metadata": {
    "collapsed": false,
    "deletable": true,
    "editable": true
   },
   "outputs": [
    {
     "name": "stdout",
     "output_type": "stream",
     "text": [
      "CPU times: user 3min 35s, sys: 7.25 s, total: 3min 43s\n",
      "Wall time: 1min 43s\n"
     ]
    }
   ],
   "source": [
    "# Training the model for different categories\n",
    "train_model = gensim.models.doc2vec.Doc2Vec(vector_size=50, min_count=2, epochs=25)\n",
    "train_model.build_vocab(train_corpus)\n",
    "%time train_model.train(train_corpus, total_examples=train_model.corpus_count, epochs=train_model.iter)"
   ]
  },
  {
   "cell_type": "code",
   "execution_count": 51,
   "metadata": {
    "collapsed": false,
    "deletable": true,
    "editable": true
   },
   "outputs": [],
   "source": [
    "# Getting train vectors from train data\n",
    "train_vectors = np.zeros((len(train_corpus), 50))\n",
    "for i in range(0, len(train_corpus)):\n",
    "    train_vectors[i] = train_model.docvecs[i]"
   ]
  },
  {
   "cell_type": "code",
   "execution_count": 52,
   "metadata": {
    "collapsed": false,
    "deletable": true,
    "editable": true
   },
   "outputs": [],
   "source": [
    "# Creating test vectors from testing data\n",
    "test_corpus = []\n",
    "counter = 0\n",
    "for i in range(len(twenty_test.data)):\n",
    "    test_corpus.append(gensim.utils.simple_preprocess(twenty_test.data[i]))\n",
    "    counter += 1 \n",
    "\n",
    "test_vectors = np.zeros((len(test_corpus), 50))\n",
    "for i in range(0, len(test_corpus)):\n",
    "    test_vectors[i] = train_model.infer_vector(test_corpus[i])\n",
    "# print(test_vectors[0])"
   ]
  },
  {
   "cell_type": "code",
   "execution_count": 53,
   "metadata": {
    "collapsed": false,
    "deletable": true,
    "editable": true
   },
   "outputs": [
    {
     "name": "stdout",
     "output_type": "stream",
     "text": [
      "0.543281996814\n",
      "0.518727692934\n"
     ]
    }
   ],
   "source": [
    "# Training classifiers on doc2vec trained vectors\n",
    "d2v = svm.LinearSVC(C=10)\n",
    "d2v.fit(train_vectors,newsgroups_train.target)\n",
    "\n",
    "d2v_predicted = d2v.predict(test_vectors)\n",
    "d2v_accuracy = d2v.score(test_vectors,twenty_test.target)\n",
    "d2v_f1_score = f1_score(twenty_test.target, d2v_predicted,average='weighted')\n",
    "print(d2v_accuracy)\n",
    "print(d2v_f1_score)"
   ]
  },
  {
   "cell_type": "markdown",
   "metadata": {
    "deletable": true,
    "editable": true
   },
   "source": [
    "# Evaluating classifiers"
   ]
  },
  {
   "cell_type": "code",
   "execution_count": 57,
   "metadata": {
    "collapsed": false,
    "deletable": true,
    "editable": true
   },
   "outputs": [
    {
     "data": {
      "image/png": "[encoded data removed]",
      "text/plain": [
       "<matplotlib.figure.Figure at 0x1ac4cbae48>"
      ]
     },
     "metadata": {},
     "output_type": "display_data"
    }
   ],
   "source": [
    "model_names = [\"NB\",\"SVM\",\"LR\",\"Doc2Vec\"]\n",
    "model_num = [0,1,2,3]\n",
    "\n",
    "# Plotting model accuracies beside each other to test\n",
    "from matplotlib import pyplot as plt\n",
    "plt.bar(model_num, [NB_accuracy,svm_accuracy,LR_accuracy,d2v_accuracy], align='center', alpha=0.5,color='red')\n",
    "plt.xticks(model_num, model_names)\n",
    "plt.ylabel(\"Accuracy\")\n",
    "plt.xlabel(\"Models\")\n",
    "plt.title(\"Comparing Accuracies\")\n",
    "plt.show()"
   ]
  },
  {
   "cell_type": "code",
   "execution_count": 56,
   "metadata": {
    "collapsed": false,
    "deletable": true,
    "editable": true
   },
   "outputs": [
    {
     "data": {
      "image/png": "[encoded data removed]",
      "text/plain": [
       "<matplotlib.figure.Figure at 0x1aa9280d68>"
      ]
     },
     "metadata": {},
     "output_type": "display_data"
    }
   ],
   "source": [
    "plt.bar(model_num, [NB_f1_score,svm_f1_score,LR_f1_score,d2v_f1_score], align='center', alpha=0.5,color='blue')\n",
    "plt.xticks(model_num, model_names)\n",
    "plt.ylabel(\"F1 Score\")\n",
    "plt.xlabel(\"Models\")\n",
    "plt.title(\"Comparing F1 Scores\")\n",
    "plt.show()"
   ]
  },
  {
   "cell_type": "markdown",
   "metadata": {
    "deletable": true,
    "editable": true
   },
   "source": [
    "# Evaluation of final model"
   ]
  },
  {
   "cell_type": "code",
   "execution_count": 7,
   "metadata": {
    "collapsed": false,
    "deletable": true,
    "editable": true
   },
   "outputs": [
    {
     "name": "stdout",
     "output_type": "stream",
     "text": [
      "Accuracy: 0.861789697292\n",
      "F1 Score: 0.860979294015\n"
     ]
    }
   ],
   "source": [
    "final_model = text_clf_svm\n",
    "print(\"Accuracy:\",svm_accuracy)\n",
    "print(\"F1 Score:\",svm_f1_score)"
   ]
  },
  {
   "cell_type": "code",
   "execution_count": 8,
   "metadata": {
    "collapsed": false,
    "deletable": true,
    "editable": true
   },
   "outputs": [
    {
     "name": "stdout",
     "output_type": "stream",
     "text": [
      "                          precision    recall  f1-score   support\n",
      "\n",
      "             alt.atheism       0.85      0.81      0.83       319\n",
      "           comp.graphics       0.77      0.81      0.79       389\n",
      " comp.os.ms-windows.misc       0.77      0.76      0.76       394\n",
      "comp.sys.ibm.pc.hardware       0.73      0.77      0.75       392\n",
      "   comp.sys.mac.hardware       0.83      0.85      0.84       385\n",
      "          comp.windows.x       0.89      0.82      0.85       395\n",
      "            misc.forsale       0.84      0.91      0.87       390\n",
      "               rec.autos       0.94      0.90      0.92       396\n",
      "         rec.motorcycles       0.95      0.96      0.95       398\n",
      "      rec.sport.baseball       0.91      0.94      0.93       397\n",
      "        rec.sport.hockey       0.94      0.97      0.95       399\n",
      "               sci.crypt       0.93      0.94      0.93       396\n",
      "         sci.electronics       0.83      0.79      0.81       393\n",
      "                 sci.med       0.91      0.86      0.88       396\n",
      "               sci.space       0.91      0.92      0.91       394\n",
      "  soc.religion.christian       0.87      0.94      0.90       398\n",
      "      talk.politics.guns       0.76      0.93      0.84       364\n",
      "   talk.politics.mideast       0.97      0.91      0.94       376\n",
      "      talk.politics.misc       0.85      0.66      0.74       310\n",
      "      talk.religion.misc       0.78      0.66      0.71       251\n",
      "\n",
      "             avg / total       0.86      0.86      0.86      7532\n",
      "\n"
     ]
    }
   ],
   "source": [
    "print(classification_report(twenty_test.target,svm_predicted,target_names=newsgroups_train.target_names))"
   ]
  },
  {
   "cell_type": "code",
   "execution_count": 11,
   "metadata": {
    "collapsed": false,
    "deletable": true,
    "editable": true
   },
   "outputs": [
    {
     "data": {
      "image/png": "[encoded data removed]",
      "text/plain": [
       "<matplotlib.figure.Figure at 0x1a212e6ef0>"
      ]
     },
     "metadata": {},
     "output_type": "display_data"
    },
    {
     "name": "stdout",
     "output_type": "stream",
     "text": [
      "['alt.atheism', 'comp.graphics', 'comp.os.ms-windows.misc', 'comp.sys.ibm.pc.hardware', 'comp.sys.mac.hardware', 'comp.windows.x', 'misc.forsale', 'rec.autos', 'rec.motorcycles', 'rec.sport.baseball', 'rec.sport.hockey', 'sci.crypt', 'sci.electronics', 'sci.med', 'sci.space', 'soc.religion.christian', 'talk.politics.guns', 'talk.politics.mideast', 'talk.politics.misc', 'talk.religion.misc']\n"
     ]
    }
   ],
   "source": [
    "from sklearn.metrics import confusion_matrix\n",
    "from matplotlib import pyplot as plt\n",
    "labels = [0,1,2,3,4,5,6,7,8,9,10,11,12,13,14,15,16,17,18,19]\n",
    "# print(labels)\n",
    "cm = confusion_matrix(twenty_test.target, svm_predicted, labels)\n",
    "# print(cm)\n",
    "fig = plt.figure()\n",
    "ax = fig.add_subplot(111)\n",
    "cax = ax.matshow(cm)\n",
    "plt.title('Confusion matrix of the classifier')\n",
    "fig.colorbar(cax)\n",
    "ax.set_xticklabels([''] + labels)\n",
    "ax.set_yticklabels([''] + labels)\n",
    "plt.xlabel('Predicted')\n",
    "plt.ylabel('True')\n",
    "plt.show()\n",
    "print(newsgroups_train.target_names)"
   ]
  },
  {
   "cell_type": "markdown",
   "metadata": {},
   "source": [
    "# Tesing on Unseen data"
   ]
  },
  {
   "cell_type": "code",
   "execution_count": 16,
   "metadata": {
    "collapsed": false
   },
   "outputs": [
    {
     "name": "stdout",
     "output_type": "stream",
     "text": [
      "Category: soc.religion.christian\n"
     ]
    }
   ],
   "source": [
    "sen = \"Pray to Jesus\"\n",
    "cat_num = final_model.predict([sen])\n",
    "print(\"Category:\",newsgroups_train.target_names[cat_num[0]])"
   ]
  },
  {
   "cell_type": "code",
   "execution_count": 22,
   "metadata": {
    "collapsed": false,
    "deletable": true,
    "editable": true
   },
   "outputs": [
    {
     "name": "stdout",
     "output_type": "stream",
     "text": [
      "Category: soc.religion.christian\n"
     ]
    }
   ],
   "source": [
    "sen = \"There is war going on in Syria\"\n",
    "cat_num = final_model.predict([sen])\n",
    "print(\"Category:\",newsgroups_train.target_names[cat_num[0]])"
   ]
  },
  {
   "cell_type": "code",
   "execution_count": 37,
   "metadata": {
    "collapsed": false,
    "deletable": true,
    "editable": true
   },
   "outputs": [
    {
     "name": "stdout",
     "output_type": "stream",
     "text": [
      "Category: comp.graphics\n"
     ]
    }
   ],
   "source": [
    "sen = \"This graphics of this game are amazing\"\n",
    "cat_num = final_model.predict([sen])\n",
    "print(\"Category:\",newsgroups_train.target_names[cat_num[0]])"
   ]
  },
  {
   "cell_type": "code",
   "execution_count": 24,
   "metadata": {
    "collapsed": false
   },
   "outputs": [
    {
     "name": "stdout",
     "output_type": "stream",
     "text": [
      "Category: rec.sport.hockey\n"
     ]
    }
   ],
   "source": [
    "sen = \"Toronto Maple Leafs keep losing every single year\"\n",
    "cat_num = final_model.predict([sen])\n",
    "print(\"Category:\",newsgroups_train.target_names[cat_num[0]])"
   ]
  },
  {
   "cell_type": "code",
   "execution_count": 26,
   "metadata": {
    "collapsed": false
   },
   "outputs": [
    {
     "name": "stdout",
     "output_type": "stream",
     "text": [
      "Category: alt.atheism\n"
     ]
    }
   ],
   "source": [
    "sen = \"I am atheist\"\n",
    "cat_num = final_model.predict([sen])\n",
    "print(\"Category:\",newsgroups_train.target_names[cat_num[0]])"
   ]
  },
  {
   "cell_type": "code",
   "execution_count": 27,
   "metadata": {
    "collapsed": false,
    "deletable": true,
    "editable": true
   },
   "outputs": [
    {
     "name": "stdout",
     "output_type": "stream",
     "text": [
      "Category: soc.religion.christian\n"
     ]
    }
   ],
   "source": [
    "sen = \"I don't believe in god\"\n",
    "cat_num = final_model.predict([sen])\n",
    "print(\"Category:\",newsgroups_train.target_names[cat_num[0]])"
   ]
  },
  {
   "cell_type": "code",
   "execution_count": 28,
   "metadata": {
    "collapsed": false
   },
   "outputs": [
    {
     "name": "stdout",
     "output_type": "stream",
     "text": [
      "Category: comp.sys.mac.hardware\n"
     ]
    }
   ],
   "source": [
    "sen = \"Macbook has the best battery life and memory\"\n",
    "cat_num = final_model.predict([sen])\n",
    "print(\"Category:\",newsgroups_train.target_names[cat_num[0]])"
   ]
  },
  {
   "cell_type": "code",
   "execution_count": 38,
   "metadata": {
    "collapsed": false
   },
   "outputs": [
    {
     "name": "stdout",
     "output_type": "stream",
     "text": [
      "Category: sci.space\n"
     ]
    }
   ],
   "source": [
    "sen = \"The international space station needs more fuel\"\n",
    "cat_num = final_model.predict([sen])\n",
    "print(\"Category:\",newsgroups_train.target_names[cat_num[0]])"
   ]
  },
  {
   "cell_type": "code",
   "execution_count": 31,
   "metadata": {
    "collapsed": false
   },
   "outputs": [
    {
     "name": "stdout",
     "output_type": "stream",
     "text": [
      "Category: rec.motorcycles\n"
     ]
    }
   ],
   "source": [
    "sen = \"Summer is best time to drive a motorcycle\"\n",
    "cat_num = final_model.predict([sen])\n",
    "print(\"Category:\",newsgroups_train.target_names[cat_num[0]])"
   ]
  },
  {
   "cell_type": "code",
   "execution_count": 33,
   "metadata": {
    "collapsed": false
   },
   "outputs": [
    {
     "name": "stdout",
     "output_type": "stream",
     "text": [
      "Category: rec.autos\n"
     ]
    }
   ],
   "source": [
    "sen = \"Driving on road is fun\"\n",
    "cat_num = final_model.predict([sen])\n",
    "print(\"Category:\",newsgroups_train.target_names[cat_num[0]])"
   ]
  },
  {
   "cell_type": "code",
   "execution_count": 34,
   "metadata": {
    "collapsed": false
   },
   "outputs": [
    {
     "name": "stdout",
     "output_type": "stream",
     "text": [
      "Category: sci.med\n"
     ]
    }
   ],
   "source": [
    "sen = \"I need to do exercise to improve my heart health\"\n",
    "cat_num = final_model.predict([sen])\n",
    "print(\"Category:\",newsgroups_train.target_names[cat_num[0]])"
   ]
  },
  {
   "cell_type": "code",
   "execution_count": 35,
   "metadata": {
    "collapsed": false
   },
   "outputs": [
    {
     "name": "stdout",
     "output_type": "stream",
     "text": [
      "Category: soc.religion.christian\n"
     ]
    }
   ],
   "source": [
    "sen = \"All religions essentially say the same truth\"\n",
    "cat_num = final_model.predict([sen])\n",
    "print(\"Category:\",newsgroups_train.target_names[cat_num[0]])"
   ]
  },
  {
   "cell_type": "code",
   "execution_count": 36,
   "metadata": {
    "collapsed": false
   },
   "outputs": [
    {
     "name": "stdout",
     "output_type": "stream",
     "text": [
      "Category: talk.politics.guns\n"
     ]
    }
   ],
   "source": [
    "sen = \"Stronger gun laws need to me made\"\n",
    "cat_num = final_model.predict([sen])\n",
    "print(\"Category:\",newsgroups_train.target_names[cat_num[0]])"
   ]
  }
 ],
 "metadata": {
  "kernelspec": {
   "display_name": "Python 3",
   "language": "python",
   "name": "python3"
  },
  "language_info": {
   "codemirror_mode": {
    "name": "ipython",
    "version": 3
   },
   "file_extension": ".py",
   "mimetype": "text/x-python",
   "name": "python",
   "nbconvert_exporter": "python",
   "pygments_lexer": "ipython3",
   "version": "3.5.3"
  }
 },
 "nbformat": 4,
 "nbformat_minor": 2
}
